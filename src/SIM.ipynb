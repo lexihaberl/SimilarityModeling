{
 "cells": [
  {
   "cell_type": "code",
   "execution_count": 1,
   "metadata": {},
   "outputs": [],
   "source": [
    "%load_ext autoreload\n",
    "%autoreload 2"
   ]
  },
  {
   "cell_type": "code",
   "execution_count": 55,
   "metadata": {},
   "outputs": [
    {
     "name": "stdout",
     "output_type": "stream",
     "text": [
      "E:\\everything\\Studium\\WS2023\\SimMod\\SimilarityModeling\n"
     ]
    }
   ],
   "source": [
    "%cd E:\\everything\\Studium\\WS2023\\SimMod\\SimilarityModeling"
   ]
  },
  {
   "cell_type": "code",
   "execution_count": 2,
   "id": "3d64689b-26a5-4720-8ab8-6b7c41294322",
   "metadata": {},
   "outputs": [],
   "source": [
    "import os\n",
    "import cv2\n",
    "import pandas as pd\n",
    "import utils.io as io"
   ]
  },
  {
   "cell_type": "code",
   "execution_count": 4,
   "id": "a92a0533-d581-454e-9bcb-0c94d117e38b",
   "metadata": {},
   "outputs": [],
   "source": [
    "videos_folder = \"../data/videos\"\n",
    "gt_folder = \"../data/gt_annotations\"\n",
    "temp_folder = \"../data/tmp/\""
   ]
  },
  {
   "cell_type": "code",
   "execution_count": 5,
   "id": "a92a0533-d581-454e-9bcb-0c94d117e38b",
   "metadata": {},
   "outputs": [],
   "source": [
    "episode_names = []\n",
    "video_paths = {}\n",
    "for file in os.listdir(videos_folder):\n",
    "    if file.endswith(\".avi\"):\n",
    "        file_path = os.path.join(videos_folder, file)\n",
    "        episode_name = file.split('.')[0]\n",
    "        episode_names.append(episode_name)\n",
    "        video_paths[episode_name] = file_path\n",
    "\n",
    "gt_dfs = {}\n",
    "for file in os.listdir(gt_folder):\n",
    "    if file.endswith(\".csv\"):\n",
    "        file_path = os.path.join(gt_folder, file)\n",
    "        df = pd.read_csv(file_path, sep=\";\")\n",
    "        episode_name = file.split('.')[0]\n",
    "        assert episode_name in episode_names\n",
    "        gt_dfs[episode_name] =  df"
   ]
  },
  {
   "cell_type": "code",
   "execution_count": 12,
   "id": "0fa9852b",
   "metadata": {},
   "outputs": [
    {
     "name": "stdout",
     "output_type": "stream",
     "text": [
      "Loaded video with resolution 720x544\n",
      "FPS = 25, Frame Count = 38682, Codec = FMP4\n"
     ]
    }
   ],
   "source": [
    "episode_id = 1\n",
    "cap = io.load_video(video_paths[episode_names[episode_id]])\n",
    "io.write_frames_with_frame_number(cap, episode_names[episode_id])"
   ]
  },
  {
   "cell_type": "code",
   "execution_count": 13,
   "metadata": {},
   "outputs": [],
   "source": [
    "io.write_frames_with_frame_number(cap, episode_names[0])"
   ]
  },
  {
   "cell_type": "code",
   "execution_count": 10,
   "metadata": {},
   "outputs": [
    {
     "data": {
      "text/plain": [
       "['Muppets-02-01-01', 'Muppets-02-04-04', 'Muppets-03-04-03']"
      ]
     },
     "execution_count": 10,
     "metadata": {},
     "output_type": "execute_result"
    }
   ],
   "source": [
    "episode_names"
   ]
  },
  {
   "cell_type": "markdown",
   "metadata": {},
   "source": [
    "episode_names[0]"
   ]
  },
  {
   "cell_type": "markdown",
   "id": "2ba87d4f",
   "metadata": {},
   "source": [
    "# Evaluation"
   ]
  }
 ],
 "metadata": {
  "kernelspec": {
   "display_name": "Python 3 (ipykernel)",
   "language": "python",
   "name": "python3"
  },
  "language_info": {
   "codemirror_mode": {
    "name": "ipython",
    "version": 3
   },
   "file_extension": ".py",
   "mimetype": "text/x-python",
   "name": "python",
   "nbconvert_exporter": "python",
   "pygments_lexer": "ipython3",
   "version": "3.11.0"
  }
 },
 "nbformat": 4,
 "nbformat_minor": 5
}
